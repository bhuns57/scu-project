{
 "cells": [
  {
   "cell_type": "code",
   "execution_count": null,
   "id": "a24c7a4d-cd78-409d-be04-d62d9f16d84a",
   "metadata": {},
   "outputs": [],
   "source": [
    "# read"
   ]
  },
  {
   "cell_type": "code",
   "execution_count": 1,
   "id": "3a547710-4616-45da-bd26-2c5a8e52d25d",
   "metadata": {},
   "outputs": [
    {
     "name": "stdout",
     "output_type": "stream",
     "text": [
      "hello\n"
     ]
    }
   ],
   "source": [
    "print(\"hello\")"
   ]
  },
  {
   "cell_type": "code",
   "execution_count": null,
   "id": "49a1361e-e77b-405e-8816-b56a85736b21",
   "metadata": {},
   "outputs": [],
   "source": []
  },
  {
   "cell_type": "code",
   "execution_count": null,
   "id": "b3b1f804-3ab5-4ea1-af0c-435ca0d92c73",
   "metadata": {},
   "outputs": [],
   "source": []
  }
 ],
 "metadata": {
  "kernelspec": {
   "display_name": "Python (scu)",
   "language": "python",
   "name": "scu"
  },
  "language_info": {
   "codemirror_mode": {
    "name": "ipython",
    "version": 3
   },
   "file_extension": ".py",
   "mimetype": "text/x-python",
   "name": "python",
   "nbconvert_exporter": "python",
   "pygments_lexer": "ipython3",
   "version": "3.11.13"
  }
 },
 "nbformat": 4,
 "nbformat_minor": 5
}
